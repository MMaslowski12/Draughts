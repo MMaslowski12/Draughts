{
 "cells": [
  {
   "cell_type": "code",
   "execution_count": 15,
   "id": "109a30b6",
   "metadata": {},
   "outputs": [
    {
     "name": "stdout",
     "output_type": "stream",
     "text": [
      "Defaulting to user installation because normal site-packages is not writeable\n",
      "Requirement already satisfied: numpy in c:\\users\\oem\\appdata\\roaming\\python\\python38\\site-packages (1.19.5)\n"
     ]
    },
    {
     "name": "stderr",
     "output_type": "stream",
     "text": [
      "WARNING: You are using pip version 21.2.4; however, version 21.3.1 is available.\n",
      "You should consider upgrading via the 'c:\\program files\\python38\\python.exe -m pip install --upgrade pip' command.\n"
     ]
    },
    {
     "name": "stdout",
     "output_type": "stream",
     "text": [
      "Defaulting to user installation because normal site-packages is not writeable\n",
      "Requirement already satisfied: pillow in c:\\users\\oem\\appdata\\roaming\\python\\python38\\site-packages (8.3.1)\n"
     ]
    },
    {
     "name": "stderr",
     "output_type": "stream",
     "text": [
      "WARNING: You are using pip version 21.2.4; however, version 21.3.1 is available.\n",
      "You should consider upgrading via the 'c:\\program files\\python38\\python.exe -m pip install --upgrade pip' command.\n"
     ]
    }
   ],
   "source": [
    "import math\n",
    "import copy\n",
    "!pip install numpy\n",
    "import numpy as np\n",
    "import tensorflow as ts\n",
    "import keras as kr\n",
    "from keras.datasets import mnist\n",
    "import pandas as pd\n",
    "import import_ipynb\n",
    "\n",
    "\n",
    "\n",
    "!pip install pillow\n",
    "from PIL import Image, ImageColor\n",
    "import IPython.display\n",
    "\n",
    "from Position import Position\n",
    "from Piece import Piece\n",
    "from Board import Board\n",
    "from Engine import Engine\n",
    "from Game import Game\n",
    "import SampleBot as sb\n",
    "\n",
    "#this document was created to establish a working neural system for the AI\n"
   ]
  },
  {
   "cell_type": "code",
   "execution_count": 16,
   "id": "3915fb02",
   "metadata": {},
   "outputs": [
    {
     "data": {
      "image/png": "[encoded data removed]",
      "text/plain": [
       "<PIL.Image.Image image mode=RGB size=400x400 at 0x25FE4D7FB50>"
      ]
     },
     "metadata": {},
     "output_type": "display_data"
    },
    {
     "name": "stdout",
     "output_type": "stream",
     "text": [
      "\n",
      "\n",
      "\n",
      "\n",
      "\n"
     ]
    }
   ],
   "source": [
    "def hrevert(hashf):\n",
    "    board = Board()\n",
    "    unhash = board.empty_board()\n",
    "    hashf = list(str(hashf))\n",
    "\n",
    "        \n",
    "    for i in range (100):\n",
    "        if hashf[1+i] == '3':\n",
    "            unhash.world[i//10][i%10] = unhash.newWhite(i//10, i%10, king=True)\n",
    "        if hashf[1+i] == '2':\n",
    "            unhash.world[i//10][i%10] = unhash.newWhite(i//10, i%10, king=False)\n",
    "        if hashf[1+i] == '4':\n",
    "            unhash.world[i//10][i%10] = unhash.newBlack(i//10, i%10, king=False)\n",
    "        if hashf[1+i] == '5':\n",
    "            unhash.world[i//10][i%10] = unhash.newBlack(i//10, i%10, king=True)\n",
    "    \n",
    "    \n",
    "    if hashf[0] == 2:\n",
    "        my_move = True\n",
    "    else:\n",
    "        my_move = False\n",
    "        unhash = unhash.revert()\n",
    "\n",
    "        \n",
    "    \n",
    "    return unhash, my_move\n",
    "\n",
    "def htransform(hashf):\n",
    "    t = []\n",
    "    hashf = list(str(hashf))\n",
    "    for i in range (10):\n",
    "        t+=[[]]\n",
    "        for j in range (10):\n",
    "            if hashf[1+10*i+j] == '1':\n",
    "                t[i] += [[5]]\n",
    "            if hashf[1+10*i+j] == '3':\n",
    "                t[i] += [[1]]\n",
    "            if hashf[1+10*i+j] == '2':\n",
    "                t[i] += [[4]]\n",
    "            if hashf[1+10*i+j] == '4':\n",
    "                t[i] += [[6]]\n",
    "            if hashf[1+10*i+j] == '5':\n",
    "                t[i] += [[9]]\n",
    "    return t\n",
    "    \n",
    "\n",
    "\n",
    "file = open('archives.txt')\n",
    "h = file.readlines()\n",
    "h = h[1234].split(' ')[0]\n",
    "file.close()\n",
    "x = hrevert(h)[0]\n",
    "x.show()"
   ]
  },
  {
   "cell_type": "code",
   "execution_count": 17,
   "id": "cadc479a",
   "metadata": {},
   "outputs": [],
   "source": [
    "all_input = []\n",
    "all_output = []\n",
    "#prepping\n",
    "file = open('archives.txt')\n",
    "arr = file.readlines()\n",
    "file.close()\n",
    "for i in range (int(len(arr))):\n",
    "    arr[i] = arr[i].split(' ')\n",
    "    all_input += [htransform(arr[i][0])]#prepping the _in\n",
    "    all_output += [float(arr[i][1])] #preppin the _out \n",
    "    \n",
    "#I have 10k to split, 7-2-1?\n",
    "train_in = all_input[:7000]\n",
    "val_in = all_input[7001:9000]\n",
    "test_in = all_input[9001:10000]\n",
    "train_out = all_output[:7000]\n",
    "val_out = all_output[7001:9000]\n",
    "test_out = all_output[9001:10000]"
   ]
  },
  {
   "cell_type": "code",
   "execution_count": 18,
   "id": "5a02df10",
   "metadata": {
    "scrolled": false
   },
   "outputs": [],
   "source": [
    "#this creates a neural layer\n",
    "lay = [\n",
    "#minor features \n",
    "kr.layers.Conv2D(kernel_size = (3, 3), filters = 32, activation = 'relu', input_shape=[10, 10, 1]), #so the kernel size defines input as 3x3 chunk and filter adds 3 volume aka filters, right?\n",
    "kr.layers.MaxPool2D(pool_size=2), #and how does pooling work on filters ?\n",
    "\n",
    "\n",
    "\n",
    "kr.layers.Conv2D(kernel_size = (3, 3), filters = 64, activation = 'relu'),#same as above + how do stacked filters work? just use the former 32, mix them and form 64 new ones?\n",
    "kr.layers.MaxPool2D(pool_size=2),\n",
    "    \n",
    "    \n",
    "kr.layers.Flatten(), #combing every feature of a location into an integer evaluating an importance of that place - \n",
    "kr.layers.Dense(20, activation='sigmoid'),\n",
    "kr.layers.Dense(10, activation='softmax')#softmax converts to perfect probability\n",
    "#simple sectors merging and conclusion drawing - just like a normal full-dense but with more meaningful info\n",
    "\n",
    "]\n",
    "      \n",
    "      \n",
    "# units is the amount of neurons in a layer\n",
    "neural_net = kr.Sequential(lay)"
   ]
  },
  {
   "cell_type": "code",
   "execution_count": 20,
   "id": "25d29223",
   "metadata": {},
   "outputs": [],
   "source": [
    "neural_net.compile(\n",
    "    optimizer='adam', #hill climbing function\n",
    "    loss=kr.losses.SparseCategoricalCrossentropy(from_logits = False), #estimated bias\n",
    "    metrics=kr.metrics.MeanSquaredError(\n",
    "    name='mean_squared_error', dtype=None\n",
    "))\n",
    " #how we measure how the program is doing\n"
   ]
  },
  {
   "cell_type": "code",
   "execution_count": 21,
   "id": "377c0278",
   "metadata": {},
   "outputs": [],
   "source": [
    "tin = ts.convert_to_tensor(train_in)\n",
    "tou = ts.convert_to_tensor(train_out)\n",
    "vin = ts.convert_to_tensor(val_in)\n",
    "vou = ts.convert_to_tensor(val_out)\n",
    "tein = ts.convert_to_tensor(test_in)\n",
    "teou = ts.convert_to_tensor(test_out)"
   ]
  },
  {
   "cell_type": "code",
   "execution_count": 22,
   "id": "8f240b0c",
   "metadata": {
    "scrolled": false
   },
   "outputs": [
    {
     "name": "stdout",
     "output_type": "stream",
     "text": [
      "Epoch 1/100\n"
     ]
    },
    {
     "ename": "InvalidArgumentError",
     "evalue": " Received a label value of -1 which is outside the valid range of [0, 10).  Label values: 1 0 -1 0 1 20 1 5 1 11 8 9 19 14 999 26\n\t [[node sparse_categorical_crossentropy/SparseSoftmaxCrossEntropyWithLogits/SparseSoftmaxCrossEntropyWithLogits (defined at C:\\Users\\OEM\\AppData\\Local\\Temp/ipykernel_15036/3278230175.py:14) ]] [Op:__inference_train_function_1601]\n\nFunction call stack:\ntrain_function\n",
     "output_type": "error",
     "traceback": [
      "\u001b[1;31m---------------------------------------------------------------------------\u001b[0m",
      "\u001b[1;31mInvalidArgumentError\u001b[0m                      Traceback (most recent call last)",
      "\u001b[1;32m~\\AppData\\Local\\Temp/ipykernel_15036/3278230175.py\u001b[0m in \u001b[0;36m<module>\u001b[1;34m\u001b[0m\n\u001b[0;32m     12\u001b[0m \u001b[1;33m\u001b[0m\u001b[0m\n\u001b[0;32m     13\u001b[0m \u001b[1;33m\u001b[0m\u001b[0m\n\u001b[1;32m---> 14\u001b[1;33m history = neural_net.fit(\n\u001b[0m\u001b[0;32m     15\u001b[0m \u001b[0mtrain_in\u001b[0m\u001b[1;33m,\u001b[0m\u001b[1;33m\u001b[0m\u001b[1;33m\u001b[0m\u001b[0m\n\u001b[0;32m     16\u001b[0m \u001b[0mtrain_out\u001b[0m\u001b[1;33m,\u001b[0m\u001b[1;33m\u001b[0m\u001b[1;33m\u001b[0m\u001b[0m\n",
      "\u001b[1;32m~\\AppData\\Roaming\\Python\\Python38\\site-packages\\keras\\engine\\training.py\u001b[0m in \u001b[0;36mfit\u001b[1;34m(self, x, y, batch_size, epochs, verbose, callbacks, validation_split, validation_data, shuffle, class_weight, sample_weight, initial_epoch, steps_per_epoch, validation_steps, validation_batch_size, validation_freq, max_queue_size, workers, use_multiprocessing)\u001b[0m\n\u001b[0;32m   1182\u001b[0m                 _r=1):\n\u001b[0;32m   1183\u001b[0m               \u001b[0mcallbacks\u001b[0m\u001b[1;33m.\u001b[0m\u001b[0mon_train_batch_begin\u001b[0m\u001b[1;33m(\u001b[0m\u001b[0mstep\u001b[0m\u001b[1;33m)\u001b[0m\u001b[1;33m\u001b[0m\u001b[1;33m\u001b[0m\u001b[0m\n\u001b[1;32m-> 1184\u001b[1;33m               \u001b[0mtmp_logs\u001b[0m \u001b[1;33m=\u001b[0m \u001b[0mself\u001b[0m\u001b[1;33m.\u001b[0m\u001b[0mtrain_function\u001b[0m\u001b[1;33m(\u001b[0m\u001b[0miterator\u001b[0m\u001b[1;33m)\u001b[0m\u001b[1;33m\u001b[0m\u001b[1;33m\u001b[0m\u001b[0m\n\u001b[0m\u001b[0;32m   1185\u001b[0m               \u001b[1;32mif\u001b[0m \u001b[0mdata_handler\u001b[0m\u001b[1;33m.\u001b[0m\u001b[0mshould_sync\u001b[0m\u001b[1;33m:\u001b[0m\u001b[1;33m\u001b[0m\u001b[1;33m\u001b[0m\u001b[0m\n\u001b[0;32m   1186\u001b[0m                 \u001b[0mcontext\u001b[0m\u001b[1;33m.\u001b[0m\u001b[0masync_wait\u001b[0m\u001b[1;33m(\u001b[0m\u001b[1;33m)\u001b[0m\u001b[1;33m\u001b[0m\u001b[1;33m\u001b[0m\u001b[0m\n",
      "\u001b[1;32m~\\AppData\\Roaming\\Python\\Python38\\site-packages\\tensorflow\\python\\eager\\def_function.py\u001b[0m in \u001b[0;36m__call__\u001b[1;34m(self, *args, **kwds)\u001b[0m\n\u001b[0;32m    883\u001b[0m \u001b[1;33m\u001b[0m\u001b[0m\n\u001b[0;32m    884\u001b[0m       \u001b[1;32mwith\u001b[0m \u001b[0mOptionalXlaContext\u001b[0m\u001b[1;33m(\u001b[0m\u001b[0mself\u001b[0m\u001b[1;33m.\u001b[0m\u001b[0m_jit_compile\u001b[0m\u001b[1;33m)\u001b[0m\u001b[1;33m:\u001b[0m\u001b[1;33m\u001b[0m\u001b[1;33m\u001b[0m\u001b[0m\n\u001b[1;32m--> 885\u001b[1;33m         \u001b[0mresult\u001b[0m \u001b[1;33m=\u001b[0m \u001b[0mself\u001b[0m\u001b[1;33m.\u001b[0m\u001b[0m_call\u001b[0m\u001b[1;33m(\u001b[0m\u001b[1;33m*\u001b[0m\u001b[0margs\u001b[0m\u001b[1;33m,\u001b[0m \u001b[1;33m**\u001b[0m\u001b[0mkwds\u001b[0m\u001b[1;33m)\u001b[0m\u001b[1;33m\u001b[0m\u001b[1;33m\u001b[0m\u001b[0m\n\u001b[0m\u001b[0;32m    886\u001b[0m \u001b[1;33m\u001b[0m\u001b[0m\n\u001b[0;32m    887\u001b[0m       \u001b[0mnew_tracing_count\u001b[0m \u001b[1;33m=\u001b[0m \u001b[0mself\u001b[0m\u001b[1;33m.\u001b[0m\u001b[0mexperimental_get_tracing_count\u001b[0m\u001b[1;33m(\u001b[0m\u001b[1;33m)\u001b[0m\u001b[1;33m\u001b[0m\u001b[1;33m\u001b[0m\u001b[0m\n",
      "\u001b[1;32m~\\AppData\\Roaming\\Python\\Python38\\site-packages\\tensorflow\\python\\eager\\def_function.py\u001b[0m in \u001b[0;36m_call\u001b[1;34m(self, *args, **kwds)\u001b[0m\n\u001b[0;32m    948\u001b[0m         \u001b[1;31m# Lifting succeeded, so variables are initialized and we can run the\u001b[0m\u001b[1;33m\u001b[0m\u001b[1;33m\u001b[0m\u001b[1;33m\u001b[0m\u001b[0m\n\u001b[0;32m    949\u001b[0m         \u001b[1;31m# stateless function.\u001b[0m\u001b[1;33m\u001b[0m\u001b[1;33m\u001b[0m\u001b[1;33m\u001b[0m\u001b[0m\n\u001b[1;32m--> 950\u001b[1;33m         \u001b[1;32mreturn\u001b[0m \u001b[0mself\u001b[0m\u001b[1;33m.\u001b[0m\u001b[0m_stateless_fn\u001b[0m\u001b[1;33m(\u001b[0m\u001b[1;33m*\u001b[0m\u001b[0margs\u001b[0m\u001b[1;33m,\u001b[0m \u001b[1;33m**\u001b[0m\u001b[0mkwds\u001b[0m\u001b[1;33m)\u001b[0m\u001b[1;33m\u001b[0m\u001b[1;33m\u001b[0m\u001b[0m\n\u001b[0m\u001b[0;32m    951\u001b[0m     \u001b[1;32melse\u001b[0m\u001b[1;33m:\u001b[0m\u001b[1;33m\u001b[0m\u001b[1;33m\u001b[0m\u001b[0m\n\u001b[0;32m    952\u001b[0m       \u001b[0m_\u001b[0m\u001b[1;33m,\u001b[0m \u001b[0m_\u001b[0m\u001b[1;33m,\u001b[0m \u001b[0m_\u001b[0m\u001b[1;33m,\u001b[0m \u001b[0mfiltered_flat_args\u001b[0m \u001b[1;33m=\u001b[0m\u001b[0;31m \u001b[0m\u001b[0;31m\\\u001b[0m\u001b[1;33m\u001b[0m\u001b[1;33m\u001b[0m\u001b[0m\n",
      "\u001b[1;32m~\\AppData\\Roaming\\Python\\Python38\\site-packages\\tensorflow\\python\\eager\\function.py\u001b[0m in \u001b[0;36m__call__\u001b[1;34m(self, *args, **kwargs)\u001b[0m\n\u001b[0;32m   3037\u001b[0m       (graph_function,\n\u001b[0;32m   3038\u001b[0m        filtered_flat_args) = self._maybe_define_function(args, kwargs)\n\u001b[1;32m-> 3039\u001b[1;33m     return graph_function._call_flat(\n\u001b[0m\u001b[0;32m   3040\u001b[0m         filtered_flat_args, captured_inputs=graph_function.captured_inputs)  # pylint: disable=protected-access\n\u001b[0;32m   3041\u001b[0m \u001b[1;33m\u001b[0m\u001b[0m\n",
      "\u001b[1;32m~\\AppData\\Roaming\\Python\\Python38\\site-packages\\tensorflow\\python\\eager\\function.py\u001b[0m in \u001b[0;36m_call_flat\u001b[1;34m(self, args, captured_inputs, cancellation_manager)\u001b[0m\n\u001b[0;32m   1961\u001b[0m         and executing_eagerly):\n\u001b[0;32m   1962\u001b[0m       \u001b[1;31m# No tape is watching; skip to running the function.\u001b[0m\u001b[1;33m\u001b[0m\u001b[1;33m\u001b[0m\u001b[1;33m\u001b[0m\u001b[0m\n\u001b[1;32m-> 1963\u001b[1;33m       return self._build_call_outputs(self._inference_function.call(\n\u001b[0m\u001b[0;32m   1964\u001b[0m           ctx, args, cancellation_manager=cancellation_manager))\n\u001b[0;32m   1965\u001b[0m     forward_backward = self._select_forward_and_backward_functions(\n",
      "\u001b[1;32m~\\AppData\\Roaming\\Python\\Python38\\site-packages\\tensorflow\\python\\eager\\function.py\u001b[0m in \u001b[0;36mcall\u001b[1;34m(self, ctx, args, cancellation_manager)\u001b[0m\n\u001b[0;32m    589\u001b[0m       \u001b[1;32mwith\u001b[0m \u001b[0m_InterpolateFunctionError\u001b[0m\u001b[1;33m(\u001b[0m\u001b[0mself\u001b[0m\u001b[1;33m)\u001b[0m\u001b[1;33m:\u001b[0m\u001b[1;33m\u001b[0m\u001b[1;33m\u001b[0m\u001b[0m\n\u001b[0;32m    590\u001b[0m         \u001b[1;32mif\u001b[0m \u001b[0mcancellation_manager\u001b[0m \u001b[1;32mis\u001b[0m \u001b[1;32mNone\u001b[0m\u001b[1;33m:\u001b[0m\u001b[1;33m\u001b[0m\u001b[1;33m\u001b[0m\u001b[0m\n\u001b[1;32m--> 591\u001b[1;33m           outputs = execute.execute(\n\u001b[0m\u001b[0;32m    592\u001b[0m               \u001b[0mstr\u001b[0m\u001b[1;33m(\u001b[0m\u001b[0mself\u001b[0m\u001b[1;33m.\u001b[0m\u001b[0msignature\u001b[0m\u001b[1;33m.\u001b[0m\u001b[0mname\u001b[0m\u001b[1;33m)\u001b[0m\u001b[1;33m,\u001b[0m\u001b[1;33m\u001b[0m\u001b[1;33m\u001b[0m\u001b[0m\n\u001b[0;32m    593\u001b[0m               \u001b[0mnum_outputs\u001b[0m\u001b[1;33m=\u001b[0m\u001b[0mself\u001b[0m\u001b[1;33m.\u001b[0m\u001b[0m_num_outputs\u001b[0m\u001b[1;33m,\u001b[0m\u001b[1;33m\u001b[0m\u001b[1;33m\u001b[0m\u001b[0m\n",
      "\u001b[1;32m~\\AppData\\Roaming\\Python\\Python38\\site-packages\\tensorflow\\python\\eager\\execute.py\u001b[0m in \u001b[0;36mquick_execute\u001b[1;34m(op_name, num_outputs, inputs, attrs, ctx, name)\u001b[0m\n\u001b[0;32m     57\u001b[0m   \u001b[1;32mtry\u001b[0m\u001b[1;33m:\u001b[0m\u001b[1;33m\u001b[0m\u001b[1;33m\u001b[0m\u001b[0m\n\u001b[0;32m     58\u001b[0m     \u001b[0mctx\u001b[0m\u001b[1;33m.\u001b[0m\u001b[0mensure_initialized\u001b[0m\u001b[1;33m(\u001b[0m\u001b[1;33m)\u001b[0m\u001b[1;33m\u001b[0m\u001b[1;33m\u001b[0m\u001b[0m\n\u001b[1;32m---> 59\u001b[1;33m     tensors = pywrap_tfe.TFE_Py_Execute(ctx._handle, device_name, op_name,\n\u001b[0m\u001b[0;32m     60\u001b[0m                                         inputs, attrs, num_outputs)\n\u001b[0;32m     61\u001b[0m   \u001b[1;32mexcept\u001b[0m \u001b[0mcore\u001b[0m\u001b[1;33m.\u001b[0m\u001b[0m_NotOkStatusException\u001b[0m \u001b[1;32mas\u001b[0m \u001b[0me\u001b[0m\u001b[1;33m:\u001b[0m\u001b[1;33m\u001b[0m\u001b[1;33m\u001b[0m\u001b[0m\n",
      "\u001b[1;31mInvalidArgumentError\u001b[0m:  Received a label value of -1 which is outside the valid range of [0, 10).  Label values: 1 0 -1 0 1 20 1 5 1 11 8 9 19 14 999 26\n\t [[node sparse_categorical_crossentropy/SparseSoftmaxCrossEntropyWithLogits/SparseSoftmaxCrossEntropyWithLogits (defined at C:\\Users\\OEM\\AppData\\Local\\Temp/ipykernel_15036/3278230175.py:14) ]] [Op:__inference_train_function_1601]\n\nFunction call stack:\ntrain_function\n"
     ]
    }
   ],
   "source": [
    "callback1 = kr.callbacks.EarlyStopping(\n",
    "monitor='val_mean_squared_error',\n",
    "mode='auto',    \n",
    "patience=15,\n",
    ")\n",
    "callback2 = kr.callbacks.ReduceLROnPlateau(monitor='val_mean_squared_error',\n",
    "mode = 'auto',\n",
    "factor=0.2,\n",
    "patience=5, min_lr=0.001)\n",
    "\n",
    "\n",
    "\n",
    "\n",
    "history = neural_net.fit(\n",
    "train_in,\n",
    "train_out,\n",
    "validation_data=(val_in, val_out),\n",
    "batch_size = 16, #ile sampli przed verification\n",
    "epochs = 100,  #ile razy przelecicec przez caly dataset,\n",
    "verbose = 1, #print logs about how it is going\n",
    "callbacks = [callback1, callback2]\n",
    ")\n",
    "\n",
    "history = pd.DataFrame(history.history) #changing history to pandas database\n",
    "history.loc[5:, ['mean_squared_error', 'val_mean_squared_error']].plot()\n",
    "\n",
    "\n",
    "test_loss, test_acc = neural_net.evaluate(test_in, test_out, verbose=2)"
   ]
  },
  {
   "cell_type": "code",
   "execution_count": null,
   "id": "7cd576f9",
   "metadata": {},
   "outputs": [],
   "source": []
  }
 ],
 "metadata": {
  "kernelspec": {
   "display_name": "Python 3 (ipykernel)",
   "language": "python",
   "name": "python3"
  },
  "language_info": {
   "codemirror_mode": {
    "name": "ipython",
    "version": 3
   },
   "file_extension": ".py",
   "mimetype": "text/x-python",
   "name": "python",
   "nbconvert_exporter": "python",
   "pygments_lexer": "ipython3",
   "version": "3.8.2"
  }
 },
 "nbformat": 4,
 "nbformat_minor": 5
}
