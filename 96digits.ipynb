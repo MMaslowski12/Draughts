{
 "cells": [
  {
   "cell_type": "code",
   "execution_count": 12,
   "id": "2a1452de",
   "metadata": {},
   "outputs": [],
   "source": [
    "import tensorflow as ts\n",
    "from tensorflow.keras.models import load_model\n",
    "import keras as kr\n",
    "from keras.datasets import mnist\n",
    "import pandas as pd\n",
    "import matplotlib.pyplot as plt\n",
    "(train_in_pre, train_out_pre), (test_in_pre, test_out_pre) = mnist.load_data()\n",
    "\n",
    "all_input = []\n",
    "all_output = []\n",
    "test_in = []\n",
    "test_out = []\n",
    "\n",
    "\n"
   ]
  },
  {
   "cell_type": "code",
   "execution_count": 13,
   "id": "b30332b7",
   "metadata": {},
   "outputs": [],
   "source": [
    "def inpconv(old, length):\n",
    "    newl = []\n",
    "    for i in range (int(length//2)):\n",
    "        for j in range (int(length//2)):\n",
    "            n = int(old[2*i+1][2*j+1]) + int(old[2*i+1][2*j]) + int(old[2*i][2*j+1]) + int(old[2*i][2*j])\n",
    "            if (n > 350):\n",
    "                newl += [1]\n",
    "            else:\n",
    "                newl += [0]\n",
    "    return newl\n",
    "\n",
    "\n",
    "if not type(train_in_pre) == list:\n",
    "    train_in_pre = train_in_pre.tolist()\n",
    "for i in range(int(len(train_in_pre))):\n",
    "    all_input += [inpconv(train_in_pre[i], 28)]#lista list pikseli w obrazku\n",
    "\n",
    "if not type(test_in_pre) == list:\n",
    "    test_in_pre = test_in_pre.tolist()\n",
    "for i in range(int(len(test_in_pre))):\n",
    "    test_in += [inpconv(test_in_pre[i], 28)]\n",
    "\n",
    "    \n",
    "for i in range(len(train_out_pre)):\n",
    "    all_output += [[(1 if train_out_pre[i] == j else 0) for j in range(10)]]\n",
    "\n",
    "for i in range(len(test_out_pre)):\n",
    "    test_out += [[(1 if test_out_pre[i] == j else 0) for j in range(10)]]\n",
    "    \n",
    "val_in = all_input[0:750]\n",
    "train_in = all_input[750:7500]\n",
    "val_out = all_output[0:750]\n",
    "train_out = all_output[750:7500]"
   ]
  },
  {
   "cell_type": "code",
   "execution_count": 14,
   "id": "4ec6d503",
   "metadata": {},
   "outputs": [],
   "source": [
    "#this shows us the image from the combined pixels\n",
    "def plot_digit(image):\n",
    "    pixels = []\n",
    "    for i in range(14):\n",
    "        pixels += [image[14*i : 14*(i+1)]]\n",
    "\n",
    "    plt.figure()\n",
    "    plt.imshow(pixels)\n",
    "    plt.colorbar()\n",
    "    plt.grid(False)\n",
    "    plt.show()\n"
   ]
  },
  {
   "cell_type": "code",
   "execution_count": 17,
   "id": "0bcc8215",
   "metadata": {},
   "outputs": [
    {
     "data": {
      "image/png": "[encoded data removed]",
      "text/plain": [
       "<Figure size 432x288 with 2 Axes>"
      ]
     },
     "metadata": {
      "needs_background": "light"
     },
     "output_type": "display_data"
    },
    {
     "name": "stdout",
     "output_type": "stream",
     "text": [
      "[[  0.02029853  -5.9244413   -0.3871919   -9.928994    -4.668625\n",
      "   -2.9940405    6.090712   -14.956843     0.39036363  -8.031038  ]] None\n",
      "313/313 - 0s - loss: 0.5298 - binary_accuracy: 0.9595\n"
     ]
    }
   ],
   "source": [
    "#this creates a neural layer\n",
    "model = load_model('my_model.h5')\n",
    "\n",
    "print(model.predict([test_in[21]]), plot_digit(test_in[21]))\n",
    "\n",
    "test_loss, test_acc = model.evaluate(test_in, test_out, verbose=2)"
   ]
  },
  {
   "cell_type": "code",
   "execution_count": null,
   "id": "6ca2daf2",
   "metadata": {},
   "outputs": [],
   "source": []
  }
 ],
 "metadata": {
  "kernelspec": {
   "display_name": "Python 3 (ipykernel)",
   "language": "python",
   "name": "python3"
  },
  "language_info": {
   "codemirror_mode": {
    "name": "ipython",
    "version": 3
   },
   "file_extension": ".py",
   "mimetype": "text/x-python",
   "name": "python",
   "nbconvert_exporter": "python",
   "pygments_lexer": "ipython3",
   "version": "3.8.2"
  }
 },
 "nbformat": 4,
 "nbformat_minor": 5
}
