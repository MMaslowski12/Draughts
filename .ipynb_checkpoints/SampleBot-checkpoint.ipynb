{
 "cells": [
  {
   "cell_type": "code",
   "execution_count": 5,
   "id": "4228de84",
   "metadata": {
    "scrolled": true
   },
   "outputs": [
    {
     "name": "stdout",
     "output_type": "stream",
     "text": [
      "Defaulting to user installation because normal site-packages is not writeable\n",
      "Requirement already satisfied: numpy in c:\\users\\oem\\appdata\\roaming\\python\\python38\\site-packages (1.21.1)\n"
     ]
    },
    {
     "name": "stderr",
     "output_type": "stream",
     "text": [
      "WARNING: You are using pip version 21.1.2; however, version 21.2.3 is available.\n",
      "You should consider upgrading via the 'c:\\program files\\python38\\python.exe -m pip install --upgrade pip' command.\n"
     ]
    },
    {
     "name": "stdout",
     "output_type": "stream",
     "text": [
      "Defaulting to user installation because normal site-packages is not writeable\n",
      "Requirement already satisfied: pillow in c:\\users\\oem\\appdata\\roaming\\python\\python38\\site-packages (8.3.1)\n"
     ]
    },
    {
     "name": "stderr",
     "output_type": "stream",
     "text": [
      "WARNING: You are using pip version 21.1.2; however, version 21.2.3 is available.\n",
      "You should consider upgrading via the 'c:\\program files\\python38\\python.exe -m pip install --upgrade pip' command.\n"
     ]
    }
   ],
   "source": [
    "import math\n",
    "import copy\n",
    "!pip install numpy\n",
    "import numpy as np\n",
    "\n",
    "!pip install pillow\n",
    "from PIL import Image, ImageColor\n",
    "import IPython.display\n",
    "\n",
    "from Piece import Piece\n",
    "from Board import Board\n",
    "from Engine import Engine, Game"
   ]
  },
  {
   "cell_type": "code",
   "execution_count": 6,
   "id": "5bcf6a02",
   "metadata": {},
   "outputs": [],
   "source": [
    "class SimpleBot:\n",
    "\n",
    "    \n",
    "    \n",
    "    pkill_list = []\n",
    "    def pawn_kill(self, board, y, x, path, al_done):\n",
    "        #nonlocal pkill_list\n",
    "        pathsave=path\n",
    "        if board.isBlack(y - 1, x - 1):\n",
    "            if (y - 1, x - 1) not in al_done:\n",
    "                if board.isEmpty(y - 2, x - 2):\n",
    "                    path += (y - 1, x - 1)\n",
    "                    pawn_kill(self, board, y - 2, x - 2, path, al_done + (y - 1, x - 1))\n",
    "        path=pathsave\n",
    "        \n",
    "        if board.isBlack(y + 1, x + 1):\n",
    "            if (y + 1, x + 1) not in al_done:\n",
    "                if board.isEmpty(y + 2, x + 2):\n",
    "                    path += (y + 1, x + 1)\n",
    "                    pawn_kill(self, board, y + 2, x + 2, path, al_done + (y + 1, x + 1))\n",
    "        path=pathsave\n",
    "        \n",
    "        if board.isBlack(y - 1, x + 1):\n",
    "            if (y - 1,x + 1) not in al_done:\n",
    "                if board.isEmpty(y - 2, x + 2):\n",
    "                    path += (y - 1, x + 1)\n",
    "                    pawn_kill(self, board, y - 2, x + 2, path, al_done + (y - 1, x + 1))\n",
    "        path=pathsave\n",
    "        \n",
    "        if board.isBlack(y + 1, x - 1):\n",
    "            if (y + 1, x - 1) not in al_done:\n",
    "                if board.isEmpty(y + 2, x - 2):\n",
    "                    path += (y + 1, x - 1)\n",
    "                    pawn_kill(self, board, y + 2, x - 2, path, al_done + (y + 1, x - 1 ))\n",
    "        path=pathsave\n",
    "                \n",
    "        if not ((board.isBlack(y - 1, x - 1)) and (board.isEmpty(y - 2, x - 2)) and ((y - 1, x - 1) not in al_done)):\n",
    "            if not ((board.isBlack(y + 1, x + 1)) and (board.isEmpty(y + 2, x + 2)) and ((y + 1, x + 1) not in al_done)):\n",
    "                if not ((board.isBlack(y - 1, x + 1)) and (board.isEmpty(y - 2, x + 2)) and ((y - 1,x + 1) not in al_done)):\n",
    "                    if not ((board.isBlack(y + 1, x - 1)) and (board.isEmpty(y + 2, x - 2)) and ((y + 1, x - 1) not in al_done)):\n",
    "                        if len(path) > 2:\n",
    "                            self.kill_list += path\n"
   ]
  },
  {
   "cell_type": "code",
   "execution_count": 7,
   "id": "55f361ef",
   "metadata": {},
   "outputs": [],
   "source": [
    "class SimpleBot(SimpleBot):\n",
    "    def king_kill(self, board, y, x, path, al_done):\n",
    "        cont = 0\n",
    "        for i in range (min(white.x,white.y)):\n",
    "            if  not board.isEmpty(y - i - 1, x - i - 1):\n",
    "                if board.isBlack(y - i - 1, x - i - 1):\n",
    "                    if (y - i - 1, x - i - 1) not in al_done:\n",
    "                        for j in range (i + 1 , min(white.x)):\n",
    "                            if not board.isEmpty(y - j - 1, x - j - 1):\n",
    "                                break\n",
    "                            cont = 1\n",
    "                            king_kill(self, board, y - j - 1, x - j - 1, path + (y - j - 1, x - j - 1), al_done + (y - i - 1, x - i - 1))\n",
    "\n",
    "                else: break\n",
    "        \n",
    "        for i in range (9 - max(white.x,white.y)):\n",
    "            if  not board.isEmpty(y + i + 1, x + i + 1):\n",
    "                if board.isBlack(y + i + 1, x + i + 1):\n",
    "                    if (y + i + 1, x + i + 1) not in al_done:\n",
    "                        for j in range (i + 1 , 9 - max(white.x,white.y)):\n",
    "                            if not board.isEmpty(y + j + 1, x + j + 1):\n",
    "                                break\n",
    "                            cont = 1\n",
    "                            king_kill(self, board, y + j + 1, x + j + 1, path + (y + j + 1, x + j + 1), al_done + (y + i + 1, x + i + 1))\n",
    "                            \n",
    "                            \n",
    "        for i in range (min(white.x, 9 - white.y)):\n",
    "            if  not board.isEmpty(y + i + 1, x - i - 1):\n",
    "                if board.isBlack(y + i + 1, x - i - 1):\n",
    "                    if (y + i + 1, x - i - 1) not in al_done:\n",
    "                        for j in range (i + 1 , min(white.x, 9 - white.y)):\n",
    "                            if not board.isEmpty(y + j + 1, x - j - 1):\n",
    "                                break\n",
    "                            cont = 1\n",
    "                            king_kill(self, board, y + j + 1, x - j - 1, path + (y + j + 1, x - j - 1), al_done + (y + i + 1, x - i - 1))\n",
    "                            \n",
    "        for i in range (min(white.y, 9 - white.x)):\n",
    "            if  not board.isEmpty(y - i - 1, x + i + 1):\n",
    "                if board.isBlack(y - i - 1, x + i + 1):\n",
    "                    if (y - i - 1, x + i + 1) not in al_done:\n",
    "                        for j in range (i + 1 , min(white.y, 9 - white.x)):\n",
    "                            if not board.isEmpty(y - j - 1, x + j + 1):\n",
    "                                break\n",
    "                            cont = 1\n",
    "                            king_kill(self, board, y - j - 1, x + j + 1, path + (y - j - 1, x + j + 1), al_done + (y - i - 1, x + i + 1))\n",
    "\n",
    "        \n",
    "        \n",
    "        \n",
    "        if cont == 0:\n",
    "            if len(path) > 2:\n",
    "                self.pkill_list += path\n",
    "            \n",
    "        \n",
    "        \n",
    "        \n",
    "        \n",
    "        \n",
    "        \n",
    "        "
   ]
  },
  {
   "cell_type": "code",
   "execution_count": 8,
   "id": "ac054f7c",
   "metadata": {},
   "outputs": [],
   "source": [
    "class SimpleBot(SimpleBot):\n",
    "    def kill_list(self, board):\n",
    "        #nonlocal pkill_list\n",
    "        for white in board.whites:\n",
    "            if white.crown:\n",
    "                self.pawn_kill(board, white.y, white.x, (white.y, white.x), [])\n",
    "            else:\n",
    "                self.king_kill(board, white.y, white.x, (white.y, white.x), [])\n",
    "                \n",
    "            \n",
    "    \n",
    "    "
   ]
  },
  {
   "cell_type": "code",
   "execution_count": 9,
   "id": "dc16c8ed",
   "metadata": {},
   "outputs": [],
   "source": [
    "class SimpleBot(SimpleBot):\n",
    "    def moves_list(self, board):\n",
    "        moves=[]\n",
    "        for white in board.whites:\n",
    "            if not white.king:\n",
    "                if board.isEmpty(white.y + 1, white.x + 1):\n",
    "                    moves += [(white.y, white.x, white.y + 1, white.x + 1)]\n",
    "                if board.isEmpty(white.y + 1, white.x - 1):\n",
    "                    moves += [(white.y, white.x, white.y + 1, white.x - 1)]\n",
    "            else:\n",
    "                for i in range (min(white.x,white.y)):\n",
    "                    if board.isEmpty(y - i - 1,x - i - 1):\n",
    "                        moves += [(white.y, white.x, white.y - i - 1, white.x - 1 - i)]\n",
    "                    else: break\n",
    "\n",
    "                for i in range (9 - max(white.x, white.y)):\n",
    "                    if board.isEmpty(y + i + 1,x + i + 1):\n",
    "                        moves += [(white.y, white.x, white.y + i + 1, white.x + 1 + i)]\n",
    "                    else: break\n",
    "\n",
    "                for i in range (min(white.x, 9 - white.y)):\n",
    "                    if board.isEmpty(y + i + 1,x - i - 1):\n",
    "                        moves += [(white.y, white.x, white.y + i + 1, white.x - 1 - i)]\n",
    "                    else: break\n",
    "\n",
    "                for i in range (min(white.y, 9 - white.x)):\n",
    "                    if board.isEmpty(y - i - 1,x + i + 1):\n",
    "                        moves += [(white.y, white.x, white.y - i - 1, white.x + 1 + i)]\n",
    "                    else: break\n",
    "                        \n",
    "                    \n",
    "                    \n",
    "        return moves \n",
    "    \n",
    "    \n",
    "\n",
    "    "
   ]
  },
  {
   "cell_type": "code",
   "execution_count": 10,
   "id": "5b1fdcc7",
   "metadata": {},
   "outputs": [],
   "source": [
    "class SimpleBot(SimpleBot):\n",
    "    def heura(self, board):\n",
    "        score = 0\n",
    "        for white in board.whites:\n",
    "            if white.isKing:\n",
    "                score += 5\n",
    "            else:\n",
    "                score += 1\n",
    "            if white.y == 3:\n",
    "                score += 0.25\n",
    "            if white.y == 4:\n",
    "                score += 0.5\n",
    "            if white.y == 5:\n",
    "                score += 0.75\n",
    "            if white.y == 6:\n",
    "                score += 1.1\n",
    "            if white.y == 7:\n",
    "                score += 1.6\n",
    "            if white.y == 8:\n",
    "                score += 3\n",
    "            for mate in whites:\n",
    "                for i in [-1, 1]:\n",
    "                    if mate.y == white.y - 1 and mate.x == white.x + i:\n",
    "                        score += 0.25\n",
    "            if white.x == 0 or white.x == 9:\n",
    "                score += 0.25\n",
    "        return score"
   ]
  },
  {
   "cell_type": "code",
   "execution_count": 11,
   "id": "a0834f3e",
   "metadata": {},
   "outputs": [],
   "source": [
    "class SimpleBot(SimpleBot):\n",
    "    def get_board_score(self, board, depth, my_move):\n",
    "        #nonlocal pkill_list\n",
    "        if depth == 3:\n",
    "            return (heura(self, board), None)\n",
    "        else:\n",
    "            if board.kill_possible:\n",
    "                self.kill_list(board)\n",
    "                moves = self.pkill_list\n",
    "                self.pkill_list = []\n",
    "                \n",
    "            else:\n",
    "                moves = moves_list(self, board)\n",
    "            result = -10000 if my_move else 10000\n",
    "        optmove = None\n",
    "        for move in moves:\n",
    "            potential_result = self.get_board_score(board.make_move(move), depth + 1, not my_move)\n",
    "            if my_move:\n",
    "                if potential_result>result:\n",
    "                    result = potential_result\n",
    "                    optmove=move\n",
    "            else:\n",
    "                if potential_result<result:\n",
    "                    result = potential_result\n",
    "                    optmove=move\n",
    "        return (result, optmove)\n",
    "    \n"
   ]
  },
  {
   "cell_type": "code",
   "execution_count": 12,
   "id": "0c4222ca",
   "metadata": {},
   "outputs": [],
   "source": [
    "class SimpleBot(SimpleBot):\n",
    "    def make_move(self, board): \n",
    "        m = self.get_board_score(board, 0, 1)\n",
    "        return m[1]"
   ]
  },
  {
   "cell_type": "code",
   "execution_count": null,
   "id": "090194d1",
   "metadata": {
    "scrolled": false
   },
   "outputs": [
    {
     "data": {
      "image/png": "[encoded data removed]",
      "text/plain": [
       "<PIL.Image.Image image mode=RGB size=400x400 at 0x1D277F4CA30>"
      ]
     },
     "metadata": {},
     "output_type": "display_data"
    }
   ],
   "source": [
    "bot = SimpleBot()\n",
    "game = Game(bot, None)\n",
    "game.play_human(False)"
   ]
  },
  {
   "cell_type": "code",
   "execution_count": null,
   "id": "44e4709f",
   "metadata": {},
   "outputs": [],
   "source": []
  }
 ],
 "metadata": {
  "kernelspec": {
   "display_name": "Python 3 (ipykernel)",
   "language": "python",
   "name": "python3"
  },
  "language_info": {
   "codemirror_mode": {
    "name": "ipython",
    "version": 3
   },
   "file_extension": ".py",
   "mimetype": "text/x-python",
   "name": "python",
   "nbconvert_exporter": "python",
   "pygments_lexer": "ipython3",
   "version": "3.8.2"
  }
 },
 "nbformat": 4,
 "nbformat_minor": 5
}
