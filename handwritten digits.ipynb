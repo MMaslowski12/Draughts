{
 "cells": [
  {
   "cell_type": "code",
   "execution_count": 1,
   "id": "be85b68a",
   "metadata": {},
   "outputs": [],
   "source": [
    "import tensorflow as ts\n",
    "import keras as kr\n",
    "from keras.datasets import mnist\n",
    "import pandas as pd\n",
    "import matplotlib.pyplot as plt\n",
    "(train_in_pre, train_out_pre), (test_in_pre, test_out_pre) = mnist.load_data()\n",
    "\n"
   ]
  },
  {
   "cell_type": "code",
   "execution_count": 2,
   "id": "1390fbf2",
   "metadata": {},
   "outputs": [],
   "source": [
    "all_input = []\n",
    "all_output = []\n",
    "test_in = []\n",
    "test_out = []\n",
    "def inpconv(old, length):\n",
    "    newl = []\n",
    "    for i in range (int(length//2)):\n",
    "        for j in range (int(length//2)):\n",
    "            n = int(old[2*i+1][2*j+1]) + int(old[2*i+1][2*j]) + int(old[2*i][2*j+1]) + int(old[2*i][2*j])\n",
    "            if (n > 350):\n",
    "                newl += [1]\n",
    "            else:\n",
    "                newl += [0]\n",
    "    return newl\n",
    "\n",
    "\n",
    "if not type(train_in_pre) == list:\n",
    "    train_in_pre = train_in_pre.tolist()\n",
    "for i in range(int(len(train_in_pre))):\n",
    "    all_input += [inpconv(train_in_pre[i], 28)]#lista list pikseli w obrazku\n",
    "\n",
    "if not type(test_in_pre) == list:\n",
    "    test_in_pre = test_in_pre.tolist()\n",
    "for i in range(int(len(test_in_pre))):\n",
    "    test_in += [inpconv(test_in_pre[i], 28)]\n",
    "\n",
    "    \n",
    "for i in range(len(train_out_pre)):\n",
    "    all_output += [[(1 if train_out_pre[i] == j else 0) for j in range(10)]]\n",
    "\n",
    "for i in range(len(test_out_pre)):\n",
    "    test_out += [[(1 if test_out_pre[i] == j else 0) for j in range(10)]]\n",
    "    \n",
    "\n"
   ]
  },
  {
   "cell_type": "code",
   "execution_count": 3,
   "id": "5a473e5c",
   "metadata": {},
   "outputs": [],
   "source": [
    "val_in = all_input[0:750]\n",
    "train_in = all_input[750:7500]\n",
    "val_out = all_output[0:750]\n",
    "train_out = all_output[750:7500]"
   ]
  },
  {
   "cell_type": "code",
   "execution_count": 4,
   "id": "9c298a72",
   "metadata": {},
   "outputs": [
    {
     "data": {
      "image/png": "[encoded data removed]",
      "text/plain": [
       "<Figure size 432x288 with 2 Axes>"
      ]
     },
     "metadata": {
      "needs_background": "light"
     },
     "output_type": "display_data"
    }
   ],
   "source": [
    "#this shows us the image from the combined pixels\n",
    "def plot_digit(image):\n",
    "    pixels = []\n",
    "    for i in range(14):\n",
    "        pixels += [image[14*i : 14*(i+1)]]\n",
    "\n",
    "    plt.figure()\n",
    "    plt.imshow(pixels)\n",
    "    plt.colorbar()\n",
    "    plt.grid(False)\n",
    "    plt.show()\n",
    "plot_digit(train_in[21])"
   ]
  },
  {
   "cell_type": "code",
   "execution_count": 5,
   "id": "eed5f6a0",
   "metadata": {
    "scrolled": false
   },
   "outputs": [],
   "source": [
    "#this creates a neural layer\n",
    "lay = [kr.layers.Dense(units = 40 , activation = 'relu', input_shape = [196]), \n",
    "kr.layers.Dense(units = 40 , activation = 'sigmoid'),\n",
    "kr.layers.Dense(units = 25 , activation = 'relu'),\n",
    "kr.layers.Dense(units = 20 , activation = 'sigmoid'),\n",
    "kr.layers.Dense(units = 10)]\n",
    "      \n",
    "      \n",
    "# units is the amount of neurons in a layer\n",
    "neural_net = kr.Sequential(lay)"
   ]
  },
  {
   "cell_type": "code",
   "execution_count": 6,
   "id": "8248c610",
   "metadata": {},
   "outputs": [],
   "source": [
    "neural_net.compile(\n",
    "    optimizer='adam', #hill climbing function\n",
    "    loss=kr.losses.CategoricalCrossentropy(from_logits=True), #estimated bias\n",
    "    metrics=['binary_accuracy'] #how we measure how the program is doing\n",
    ")"
   ]
  },
  {
   "cell_type": "code",
   "execution_count": 7,
   "id": "11d1ba8f",
   "metadata": {
    "scrolled": false
   },
   "outputs": [
    {
     "name": "stdout",
     "output_type": "stream",
     "text": [
      "Epoch 1/100\n",
      "422/422 [==============================] - 116s 274ms/step - loss: 1.8196 - binary_accuracy: 0.8193 - val_loss: 1.2411 - val_binary_accuracy: 0.7807\n",
      "Epoch 2/100\n",
      "422/422 [==============================] - 0s 676us/step - loss: 0.9887 - binary_accuracy: 0.7934 - val_loss: 0.8078 - val_binary_accuracy: 0.8029\n",
      "Epoch 3/100\n",
      "422/422 [==============================] - 0s 684us/step - loss: 0.6788 - binary_accuracy: 0.8165 - val_loss: 0.6201 - val_binary_accuracy: 0.8136\n",
      "Epoch 4/100\n",
      "422/422 [==============================] - 0s 675us/step - loss: 0.5204 - binary_accuracy: 0.8273 - val_loss: 0.5206 - val_binary_accuracy: 0.8283\n",
      "Epoch 5/100\n",
      "422/422 [==============================] - 0s 673us/step - loss: 0.4244 - binary_accuracy: 0.8365 - val_loss: 0.4750 - val_binary_accuracy: 0.8385\n",
      "Epoch 6/100\n",
      "422/422 [==============================] - 0s 693us/step - loss: 0.3583 - binary_accuracy: 0.8476 - val_loss: 0.4390 - val_binary_accuracy: 0.8500\n",
      "Epoch 7/100\n",
      "422/422 [==============================] - 0s 677us/step - loss: 0.3153 - binary_accuracy: 0.8607 - val_loss: 0.4194 - val_binary_accuracy: 0.8612\n",
      "Epoch 8/100\n",
      "422/422 [==============================] - 0s 682us/step - loss: 0.2846 - binary_accuracy: 0.8731 - val_loss: 0.4205 - val_binary_accuracy: 0.8653\n",
      "Epoch 9/100\n",
      "422/422 [==============================] - 0s 659us/step - loss: 0.2562 - binary_accuracy: 0.8775 - val_loss: 0.3823 - val_binary_accuracy: 0.8741\n",
      "Epoch 10/100\n",
      "422/422 [==============================] - 0s 639us/step - loss: 0.2303 - binary_accuracy: 0.8844 - val_loss: 0.3846 - val_binary_accuracy: 0.8747\n",
      "Epoch 11/100\n",
      "422/422 [==============================] - 0s 667us/step - loss: 0.2125 - binary_accuracy: 0.8917 - val_loss: 0.3661 - val_binary_accuracy: 0.8824\n",
      "Epoch 12/100\n",
      "422/422 [==============================] - 0s 640us/step - loss: 0.1938 - binary_accuracy: 0.8985 - val_loss: 0.3683 - val_binary_accuracy: 0.8901\n",
      "Epoch 13/100\n",
      "422/422 [==============================] - 0s 649us/step - loss: 0.1772 - binary_accuracy: 0.9068 - val_loss: 0.3665 - val_binary_accuracy: 0.8975\n",
      "Epoch 14/100\n",
      "422/422 [==============================] - 0s 635us/step - loss: 0.1667 - binary_accuracy: 0.9100 - val_loss: 0.3707 - val_binary_accuracy: 0.8988\n",
      "Epoch 15/100\n",
      "422/422 [==============================] - 0s 645us/step - loss: 0.1554 - binary_accuracy: 0.9136 - val_loss: 0.3768 - val_binary_accuracy: 0.8983\n",
      "Epoch 16/100\n",
      "422/422 [==============================] - 0s 677us/step - loss: 0.1439 - binary_accuracy: 0.9186 - val_loss: 0.3829 - val_binary_accuracy: 0.9080\n",
      "Epoch 17/100\n",
      "422/422 [==============================] - 0s 681us/step - loss: 0.1316 - binary_accuracy: 0.9222 - val_loss: 0.4166 - val_binary_accuracy: 0.9123\n",
      "Epoch 18/100\n",
      "422/422 [==============================] - 0s 684us/step - loss: 0.1248 - binary_accuracy: 0.9256 - val_loss: 0.3498 - val_binary_accuracy: 0.9145\n",
      "Epoch 19/100\n",
      "422/422 [==============================] - 0s 672us/step - loss: 0.1138 - binary_accuracy: 0.9283 - val_loss: 0.3621 - val_binary_accuracy: 0.9175\n",
      "Epoch 20/100\n",
      "422/422 [==============================] - 0s 683us/step - loss: 0.1104 - binary_accuracy: 0.9309 - val_loss: 0.3475 - val_binary_accuracy: 0.9197\n",
      "Epoch 21/100\n",
      "422/422 [==============================] - 0s 675us/step - loss: 0.1019 - binary_accuracy: 0.9336 - val_loss: 0.3595 - val_binary_accuracy: 0.9256\n",
      "Epoch 22/100\n",
      "422/422 [==============================] - 0s 675us/step - loss: 0.0950 - binary_accuracy: 0.9340 - val_loss: 0.3786 - val_binary_accuracy: 0.9237\n",
      "Epoch 23/100\n",
      "422/422 [==============================] - 0s 685us/step - loss: 0.0897 - binary_accuracy: 0.9378 - val_loss: 0.3777 - val_binary_accuracy: 0.9232\n",
      "Epoch 24/100\n",
      "422/422 [==============================] - 0s 680us/step - loss: 0.0854 - binary_accuracy: 0.9383 - val_loss: 0.3830 - val_binary_accuracy: 0.9235\n",
      "Epoch 25/100\n",
      "422/422 [==============================] - 0s 678us/step - loss: 0.0803 - binary_accuracy: 0.9383 - val_loss: 0.4261 - val_binary_accuracy: 0.9220\n",
      "Epoch 26/100\n",
      "422/422 [==============================] - 0s 642us/step - loss: 0.0781 - binary_accuracy: 0.9405 - val_loss: 0.4085 - val_binary_accuracy: 0.9247\n",
      "Epoch 27/100\n",
      "422/422 [==============================] - 0s 641us/step - loss: 0.0722 - binary_accuracy: 0.9427 - val_loss: 0.4074 - val_binary_accuracy: 0.9261\n",
      "Epoch 28/100\n",
      "422/422 [==============================] - 0s 681us/step - loss: 0.0716 - binary_accuracy: 0.9430 - val_loss: 0.3872 - val_binary_accuracy: 0.9317\n",
      "Epoch 29/100\n",
      "422/422 [==============================] - 0s 677us/step - loss: 0.0700 - binary_accuracy: 0.9458 - val_loss: 0.4033 - val_binary_accuracy: 0.9340\n",
      "Epoch 30/100\n",
      "422/422 [==============================] - 0s 685us/step - loss: 0.0645 - binary_accuracy: 0.9470 - val_loss: 0.4044 - val_binary_accuracy: 0.9289\n",
      "Epoch 31/100\n",
      "422/422 [==============================] - 0s 670us/step - loss: 0.0586 - binary_accuracy: 0.9484 - val_loss: 0.4142 - val_binary_accuracy: 0.9295\n",
      "Epoch 32/100\n",
      "422/422 [==============================] - 0s 649us/step - loss: 0.0573 - binary_accuracy: 0.9509 - val_loss: 0.4030 - val_binary_accuracy: 0.9297\n",
      "Epoch 33/100\n",
      "422/422 [==============================] - 0s 681us/step - loss: 0.0524 - binary_accuracy: 0.9510 - val_loss: 0.4353 - val_binary_accuracy: 0.9311\n",
      "Epoch 34/100\n",
      "422/422 [==============================] - 0s 674us/step - loss: 0.0517 - binary_accuracy: 0.9520 - val_loss: 0.4042 - val_binary_accuracy: 0.9364\n",
      "Epoch 35/100\n",
      "422/422 [==============================] - 0s 680us/step - loss: 0.0502 - binary_accuracy: 0.9529 - val_loss: 0.4405 - val_binary_accuracy: 0.9405\n",
      "Epoch 36/100\n",
      "422/422 [==============================] - 0s 645us/step - loss: 0.0439 - binary_accuracy: 0.9564 - val_loss: 0.4498 - val_binary_accuracy: 0.9383\n",
      "Epoch 37/100\n",
      "422/422 [==============================] - 0s 752us/step - loss: 0.0416 - binary_accuracy: 0.9569 - val_loss: 0.4382 - val_binary_accuracy: 0.9371\n",
      "Epoch 38/100\n",
      "422/422 [==============================] - 0s 661us/step - loss: 0.0426 - binary_accuracy: 0.9572 - val_loss: 0.4588 - val_binary_accuracy: 0.9408\n",
      "Epoch 39/100\n",
      "422/422 [==============================] - 0s 646us/step - loss: 0.0420 - binary_accuracy: 0.9569 - val_loss: 0.4750 - val_binary_accuracy: 0.9369\n",
      "Epoch 40/100\n",
      "422/422 [==============================] - 0s 683us/step - loss: 0.0413 - binary_accuracy: 0.9579 - val_loss: 0.4352 - val_binary_accuracy: 0.9407\n",
      "Epoch 41/100\n",
      "422/422 [==============================] - 0s 672us/step - loss: 0.0357 - binary_accuracy: 0.9591 - val_loss: 0.4453 - val_binary_accuracy: 0.9412\n",
      "Epoch 42/100\n",
      "422/422 [==============================] - 0s 681us/step - loss: 0.0330 - binary_accuracy: 0.9617 - val_loss: 0.4422 - val_binary_accuracy: 0.9436\n",
      "Epoch 43/100\n",
      "422/422 [==============================] - 0s 679us/step - loss: 0.0309 - binary_accuracy: 0.9631 - val_loss: 0.4584 - val_binary_accuracy: 0.9469\n",
      "Epoch 44/100\n",
      "422/422 [==============================] - 0s 674us/step - loss: 0.0273 - binary_accuracy: 0.9634 - val_loss: 0.4350 - val_binary_accuracy: 0.9456\n",
      "Epoch 45/100\n",
      "422/422 [==============================] - 0s 623us/step - loss: 0.0337 - binary_accuracy: 0.9647 - val_loss: 0.4699 - val_binary_accuracy: 0.9447\n",
      "Epoch 46/100\n",
      "422/422 [==============================] - 0s 675us/step - loss: 0.0394 - binary_accuracy: 0.9622 - val_loss: 0.4707 - val_binary_accuracy: 0.9463\n",
      "Epoch 47/100\n",
      "422/422 [==============================] - 0s 688us/step - loss: 0.0305 - binary_accuracy: 0.9653 - val_loss: 0.4711 - val_binary_accuracy: 0.9480\n",
      "Epoch 48/100\n",
      "422/422 [==============================] - 0s 677us/step - loss: 0.0272 - binary_accuracy: 0.9670 - val_loss: 0.4833 - val_binary_accuracy: 0.9476\n",
      "Epoch 49/100\n",
      "422/422 [==============================] - 0s 685us/step - loss: 0.0223 - binary_accuracy: 0.9680 - val_loss: 0.4904 - val_binary_accuracy: 0.9497\n",
      "Epoch 50/100\n",
      "422/422 [==============================] - 0s 684us/step - loss: 0.0205 - binary_accuracy: 0.9696 - val_loss: 0.4740 - val_binary_accuracy: 0.9529\n",
      "Epoch 51/100\n",
      "422/422 [==============================] - 0s 675us/step - loss: 0.0241 - binary_accuracy: 0.9714 - val_loss: 0.5246 - val_binary_accuracy: 0.9475\n",
      "Epoch 52/100\n",
      "422/422 [==============================] - 0s 681us/step - loss: 0.0432 - binary_accuracy: 0.9683 - val_loss: 0.4901 - val_binary_accuracy: 0.9509\n",
      "Epoch 53/100\n",
      "422/422 [==============================] - 0s 659us/step - loss: 0.0246 - binary_accuracy: 0.9713 - val_loss: 0.4858 - val_binary_accuracy: 0.9560\n",
      "Epoch 54/100\n",
      "422/422 [==============================] - 0s 683us/step - loss: 0.0187 - binary_accuracy: 0.9734 - val_loss: 0.4849 - val_binary_accuracy: 0.9529\n",
      "Epoch 55/100\n",
      "422/422 [==============================] - 0s 679us/step - loss: 0.0172 - binary_accuracy: 0.9755 - val_loss: 0.4641 - val_binary_accuracy: 0.9553\n",
      "Epoch 56/100\n",
      "422/422 [==============================] - 0s 678us/step - loss: 0.0162 - binary_accuracy: 0.9759 - val_loss: 0.4748 - val_binary_accuracy: 0.9551\n",
      "Epoch 57/100\n",
      "422/422 [==============================] - 0s 687us/step - loss: 0.0198 - binary_accuracy: 0.9750 - val_loss: 0.4888 - val_binary_accuracy: 0.9557\n",
      "Epoch 58/100\n",
      "422/422 [==============================] - 0s 676us/step - loss: 0.0350 - binary_accuracy: 0.9718 - val_loss: 0.4841 - val_binary_accuracy: 0.9535\n",
      "Epoch 59/100\n",
      "422/422 [==============================] - 0s 677us/step - loss: 0.0211 - binary_accuracy: 0.9743 - val_loss: 0.4847 - val_binary_accuracy: 0.9540\n",
      "Epoch 60/100\n",
      "422/422 [==============================] - 0s 680us/step - loss: 0.0142 - binary_accuracy: 0.9769 - val_loss: 0.4859 - val_binary_accuracy: 0.9569\n",
      "Epoch 61/100\n",
      "422/422 [==============================] - 0s 675us/step - loss: 0.0136 - binary_accuracy: 0.9779 - val_loss: 0.4781 - val_binary_accuracy: 0.9572\n",
      "Epoch 62/100\n",
      "422/422 [==============================] - 0s 678us/step - loss: 0.0139 - binary_accuracy: 0.9789 - val_loss: 0.5209 - val_binary_accuracy: 0.9579\n",
      "Epoch 63/100\n",
      "422/422 [==============================] - 0s 677us/step - loss: 0.0400 - binary_accuracy: 0.9747 - val_loss: 0.5030 - val_binary_accuracy: 0.9581\n",
      "Epoch 64/100\n",
      "422/422 [==============================] - 0s 658us/step - loss: 0.0202 - binary_accuracy: 0.9774 - val_loss: 0.4759 - val_binary_accuracy: 0.9583\n",
      "Epoch 65/100\n",
      "422/422 [==============================] - 0s 682us/step - loss: 0.0127 - binary_accuracy: 0.9788 - val_loss: 0.5070 - val_binary_accuracy: 0.9584\n",
      "Epoch 66/100\n",
      "422/422 [==============================] - 0s 677us/step - loss: 0.0114 - binary_accuracy: 0.9789 - val_loss: 0.4932 - val_binary_accuracy: 0.9584\n",
      "Epoch 67/100\n",
      "422/422 [==============================] - 0s 686us/step - loss: 0.0164 - binary_accuracy: 0.9789 - val_loss: 0.5592 - val_binary_accuracy: 0.9591\n",
      "Epoch 68/100\n",
      "422/422 [==============================] - 0s 678us/step - loss: 0.0208 - binary_accuracy: 0.9764 - val_loss: 0.5758 - val_binary_accuracy: 0.9573\n",
      "Epoch 69/100\n",
      "422/422 [==============================] - 0s 678us/step - loss: 0.0277 - binary_accuracy: 0.9756 - val_loss: 0.5113 - val_binary_accuracy: 0.9559\n",
      "Epoch 70/100\n",
      "422/422 [==============================] - 0s 685us/step - loss: 0.0107 - binary_accuracy: 0.9789 - val_loss: 0.5058 - val_binary_accuracy: 0.9603\n",
      "Epoch 71/100\n",
      "422/422 [==============================] - 0s 676us/step - loss: 0.0083 - binary_accuracy: 0.9795 - val_loss: 0.5168 - val_binary_accuracy: 0.9601\n",
      "Epoch 72/100\n",
      "422/422 [==============================] - 0s 681us/step - loss: 0.0081 - binary_accuracy: 0.9801 - val_loss: 0.5023 - val_binary_accuracy: 0.9608\n",
      "Epoch 73/100\n",
      "422/422 [==============================] - 0s 676us/step - loss: 0.0078 - binary_accuracy: 0.9808 - val_loss: 0.5079 - val_binary_accuracy: 0.9603\n",
      "Epoch 74/100\n",
      "422/422 [==============================] - 0s 686us/step - loss: 0.0073 - binary_accuracy: 0.9807 - val_loss: 0.5312 - val_binary_accuracy: 0.9592\n",
      "Epoch 75/100\n",
      "422/422 [==============================] - 0s 679us/step - loss: 0.0068 - binary_accuracy: 0.9802 - val_loss: 0.5111 - val_binary_accuracy: 0.9599\n",
      "Epoch 76/100\n",
      "422/422 [==============================] - 0s 679us/step - loss: 0.0152 - binary_accuracy: 0.9772 - val_loss: 0.5687 - val_binary_accuracy: 0.9551\n",
      "Epoch 77/100\n",
      "422/422 [==============================] - 0s 689us/step - loss: 0.0314 - binary_accuracy: 0.9753 - val_loss: 0.5904 - val_binary_accuracy: 0.9583\n",
      "Epoch 78/100\n",
      "422/422 [==============================] - 0s 674us/step - loss: 0.0106 - binary_accuracy: 0.9795 - val_loss: 0.5458 - val_binary_accuracy: 0.9576\n",
      "Epoch 79/100\n",
      "422/422 [==============================] - 0s 689us/step - loss: 0.0073 - binary_accuracy: 0.9809 - val_loss: 0.5900 - val_binary_accuracy: 0.9567\n",
      "Epoch 80/100\n",
      "422/422 [==============================] - 0s 697us/step - loss: 0.0067 - binary_accuracy: 0.9801 - val_loss: 0.5868 - val_binary_accuracy: 0.9588\n",
      "Epoch 81/100\n",
      "422/422 [==============================] - 0s 750us/step - loss: 0.0062 - binary_accuracy: 0.9809 - val_loss: 0.5485 - val_binary_accuracy: 0.9588\n",
      "Epoch 82/100\n",
      "422/422 [==============================] - 0s 644us/step - loss: 0.0079 - binary_accuracy: 0.9809 - val_loss: 0.6286 - val_binary_accuracy: 0.9572\n",
      "Epoch 83/100\n",
      "422/422 [==============================] - 0s 675us/step - loss: 0.0208 - binary_accuracy: 0.9759 - val_loss: 0.5915 - val_binary_accuracy: 0.9597\n",
      "Epoch 84/100\n",
      "422/422 [==============================] - 0s 713us/step - loss: 0.0144 - binary_accuracy: 0.9769 - val_loss: 0.6690 - val_binary_accuracy: 0.9539\n",
      "Epoch 85/100\n",
      "422/422 [==============================] - 0s 718us/step - loss: 0.0114 - binary_accuracy: 0.9768 - val_loss: 0.5858 - val_binary_accuracy: 0.9583\n",
      "Epoch 86/100\n",
      "422/422 [==============================] - 0s 716us/step - loss: 0.0061 - binary_accuracy: 0.9768 - val_loss: 0.5849 - val_binary_accuracy: 0.9576\n",
      "Epoch 87/100\n",
      "422/422 [==============================] - 0s 707us/step - loss: 0.0053 - binary_accuracy: 0.9789 - val_loss: 0.5691 - val_binary_accuracy: 0.9580\n"
     ]
    },
    {
     "data": {
      "image/png": "[encoded data removed]",
      "text/plain": [
       "<Figure size 432x288 with 1 Axes>"
      ]
     },
     "metadata": {
      "needs_background": "light"
     },
     "output_type": "display_data"
    },
    {
     "data": {
      "image/png": "[encoded data removed]",
      "text/plain": [
       "<Figure size 432x288 with 2 Axes>"
      ]
     },
     "metadata": {
      "needs_background": "light"
     },
     "output_type": "display_data"
    },
    {
     "name": "stdout",
     "output_type": "stream",
     "text": [
      "[[  0.02029853  -5.9244413   -0.3871919   -9.928994    -4.668625\n",
      "   -2.9940405    6.090712   -14.956843     0.39036363  -8.031038  ]] None\n",
      "313/313 - 0s - loss: 0.5298 - binary_accuracy: 0.9595\n"
     ]
    }
   ],
   "source": [
    "callback1 = kr.callbacks.EarlyStopping(\n",
    "monitor='val_binary_accuracy',\n",
    "mode='auto',    \n",
    "patience=15,\n",
    ")\n",
    "callback2 = kr.callbacks.ReduceLROnPlateau(monitor='val_binary_accuracy',\n",
    "mode = 'max',\n",
    "factor=0.2,\n",
    "patience=5, min_lr=0.001)\n",
    "\n",
    "\n",
    "history = neural_net.fit(\n",
    "train_in,\n",
    "train_out,\n",
    "validation_data=(val_in, val_out),\n",
    "batch_size = 16, #ile sampli przed verification\n",
    "epochs = 100,  #ile razy przelecicec przez caly dataset,\n",
    "verbose = 1, #print logs about how it is going\n",
    "callbacks = [callback1, callback2]\n",
    ")\n",
    "\n",
    "history = pd.DataFrame(history.history) #changing history to pandas database\n",
    "history.loc[5:, ['binary_accuracy', 'val_binary_accuracy']].plot()\n",
    "print(neural_net.predict([test_in[21]]), plot_digit(test_in[21]))\n",
    "\n",
    "test_loss, test_acc = neural_net.evaluate(test_in, test_out, verbose=2)"
   ]
  },
  {
   "cell_type": "code",
   "execution_count": 11,
   "id": "95917450",
   "metadata": {},
   "outputs": [
    {
     "name": "stdout",
     "output_type": "stream",
     "text": [
      "INFO:tensorflow:Assets written to: 96handwriter\\assets\n"
     ]
    }
   ],
   "source": [
    "neural_net.save('96handwriter')"
   ]
  },
  {
   "cell_type": "code",
   "execution_count": null,
   "id": "ee8faae1",
   "metadata": {},
   "outputs": [],
   "source": []
  }
 ],
 "metadata": {
  "kernelspec": {
   "display_name": "Python 3 (ipykernel)",
   "language": "python",
   "name": "python3"
  },
  "language_info": {
   "codemirror_mode": {
    "name": "ipython",
    "version": 3
   },
   "file_extension": ".py",
   "mimetype": "text/x-python",
   "name": "python",
   "nbconvert_exporter": "python",
   "pygments_lexer": "ipython3",
   "version": "3.8.2"
  }
 },
 "nbformat": 4,
 "nbformat_minor": 5
}
